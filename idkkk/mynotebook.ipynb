{
 "cells": [
  {
   "cell_type": "code",
   "execution_count": null,
   "id": "210b899a",
   "metadata": {},
   "outputs": [],
   "source": [
    "import os, numpy as np, pandas as pd\n",
    "from sklearn.model_selection import train_test_split\n",
    "from sklearn.preprocessing import StandardScaler\n",
    "from sklearn.feature_selection import SelectKBest, mutual_info_classif\n",
    "from sklearn.pipeline import Pipeline\n",
    "from sklearn.metrics import classification_report, roc_auc_score\n",
    "from sklearn.compose import ColumnTransformer\n",
    "from sklearn.impute import SimpleImputer\n",
    "import tensorflow as tf\n",
    "from tensorflow import keras\n",
    "from tensorflow.keras import layers\n"
   ]
  },
  {
   "cell_type": "markdown",
   "id": "1b0eacfa",
   "metadata": {},
   "source": [
    "# Import feature code"
   ]
  },
  {
   "cell_type": "code",
   "execution_count": null,
   "id": "a1feb062",
   "metadata": {},
   "outputs": [],
   "source": [
    "\n",
    "import sys, os\n",
    "ROOT = os.path.abspath(\".\")\n",
    "if ROOT not in sys.path: sys.path.insert(0, ROOT)\n",
    "\n",
    "try:\n",
    "    # Preferred: class in snake_case file\n",
    "    from rna_features import RNAFeatures as RF\n",
    "    rna = RF()\n",
    "    print(\"Using RNAFeatures class API\")\n",
    "except Exception:\n",
    "    try:\n",
    "        from rna_features import rna_features as RF\n",
    "        rna = RF()\n",
    "        print(\"Using rna_features class API\")\n",
    "    except Exception:\n",
    "        # Fall back to function API\n",
    "        import rna_features as rna\n",
    "        rna = rna  # module\n",
    "        print(\"Using module-level function API\")\n"
   ]
  },
  {
   "cell_type": "markdown",
   "id": "928fa8e0",
   "metadata": {},
   "source": [
    "# Load data"
   ]
  },
  {
   "cell_type": "code",
   "execution_count": null,
   "id": "fbdb523c",
   "metadata": {},
   "outputs": [],
   "source": [
    "\n",
    "DATA_PATH = \"sequences.csv\"  \n",
    "\n",
    "df = pd.read_csv(DATA_PATH)\n",
    "assert {\"sequence\",\"label\"}.issubset(df.columns), df.columns\n",
    "df = df.dropna(subset=[\"sequence\",\"label\"]).reset_index(drop=True)\n",
    "\n",
    "# Make labels numeric if needed\n",
    "if not np.issubdtype(df[\"label\"].dtype, np.number):\n",
    "    df[\"label\"] = df[\"label\"].astype(\"category\").cat.codes\n",
    "\n",
    "df.head()"
   ]
  },
  {
   "cell_type": "markdown",
   "id": "e5a6407a",
   "metadata": {},
   "source": [
    "# Train/validation split"
   ]
  },
  {
   "cell_type": "code",
   "execution_count": null,
   "id": "0cd0a96d",
   "metadata": {},
   "outputs": [],
   "source": [
    "X_text = df[\"sequence\"].astype(str).tolist()\n",
    "y = df[\"label\"].values\n",
    "\n",
    "X_text_train, X_text_val, y_train, y_val = train_test_split(\n",
    "    X_text, y, test_size=0.2, stratify=y, random_state=42\n",
    ")\n",
    "\n",
    "len(X_text_train), len(X_text_val)"
   ]
  },
  {
   "cell_type": "markdown",
   "id": "c2652f04",
   "metadata": {},
   "source": [
    "# Extract RNA features (k-mers)"
   ]
  },
  {
   "cell_type": "code",
   "execution_count": null,
   "id": "d6e9f349",
   "metadata": {},
   "outputs": [],
   "source": [
    "K = 3  # try 2 or 3; 3 is common\n",
    "\n",
    "# Handle both class API and module API\n",
    "if hasattr(rna, \"kmer_matrix\"):\n",
    "    cols, X_train = rna.kmer_matrix(X_text_train, k=K, normalize=True, return_format=\"matrix\")\n",
    "    _,    X_val   = rna.kmer_matrix(X_text_val,   k=K, normalize=True, return_format=\"matrix\")\n",
    "else:\n",
    "    # class methods may be named the same; if not, adapt here\n",
    "    cols, X_train = rna.kmer_matrix(X_text_train, k=K, normalize=True, return_format=\"matrix\")\n",
    "    _,    X_val   = rna.kmer_matrix(X_text_val,   k=K, normalize=True, return_format=\"matrix\")\n",
    "\n",
    "X_train = np.asarray(X_train, dtype=np.float32)\n",
    "X_val   = np.asarray(X_val,   dtype=np.float32)\n",
    "\n",
    "print(\"Feature shape:\", X_train.shape, \"columns:\", len(cols))\n"
   ]
  },
  {
   "cell_type": "markdown",
   "id": "d1ffa9ca",
   "metadata": {},
   "source": [
    "# Basic feature selection"
   ]
  },
  {
   "cell_type": "code",
   "execution_count": null,
   "id": "a6752033",
   "metadata": {},
   "outputs": [],
   "source": [
    "# Standardize then SelectKBest by mutual information\n",
    "scaler = StandardScaler(with_mean=False)  # features are non-negative; with_mean=False keeps sparse-friendliness\n",
    "selector = SelectKBest(score_func=mutual_info_classif, k=min(256, X_train.shape[1]))\n",
    "\n",
    "# Fit on train\n",
    "X_train_std = scaler.fit_transform(X_train)\n",
    "X_train_sel = selector.fit_transform(X_train_std, y_train)\n",
    "\n",
    "# Transform val\n",
    "X_val_std = scaler.transform(X_val)\n",
    "X_val_sel = selector.transform(X_val_std)\n",
    "\n",
    "X_train_sel.shape, X_val_sel.shape\n"
   ]
  },
  {
   "cell_type": "markdown",
   "id": "5406b823",
   "metadata": {},
   "source": [
    "# Build a small neural network (Keras)"
   ]
  },
  {
   "cell_type": "code",
   "execution_count": null,
   "id": "dd66b585",
   "metadata": {},
   "outputs": [],
   "source": [
    "\n",
    "\n",
    "input_dim = X_train_sel.shape[1]\n",
    "num_classes = len(np.unique(y_train))\n",
    "\n",
    "model = keras.Sequential([\n",
    "    layers.Input(shape=(input_dim,)),\n",
    "    layers.Dense(256, activation=\"relu\"),\n",
    "    layers.Dropout(0.3),\n",
    "    layers.Dense(128, activation=\"relu\"),\n",
    "    layers.Dropout(0.3),\n",
    "    layers.Dense(1 if num_classes==2 else num_classes, activation=\"sigmoid\" if num_classes==2 else \"softmax\"),\n",
    "])\n",
    "\n",
    "model.compile(\n",
    "    optimizer=keras.optimizers.Adam(learning_rate=1e-3),\n",
    "    loss=\"binary_crossentropy\" if num_classes==2 else \"sparse_categorical_crossentropy\",\n",
    "    metrics=[\"AUC\"] if num_classes==2 else [\"accuracy\"],\n",
    ")\n",
    "\n",
    "cb = [\n",
    "    keras.callbacks.EarlyStopping(patience=10, restore_best_weights=True, monitor=\"val_loss\")\n",
    "]\n",
    "\n",
    "history = model.fit(\n",
    "    X_train_sel, y_train,\n",
    "    validation_data=(X_val_sel, y_val),\n",
    "    epochs=100,\n",
    "    batch_size=64,\n",
    "    callbacks=cb,\n",
    "    verbose=1\n",
    ")\n"
   ]
  },
  {
   "cell_type": "code",
   "execution_count": null,
   "id": "a3d1c4fd",
   "metadata": {},
   "outputs": [],
   "source": [
    "if num_classes == 2:\n",
    "    # binary\n",
    "    y_prob = model.predict(X_val_sel).ravel()\n",
    "    y_pred = (y_prob >= 0.5).astype(int)\n",
    "    print(\"ROC-AUC:\", roc_auc_score(y_val, y_prob))\n",
    "else:\n",
    "    # multi-class\n",
    "    y_prob = model.predict(X_val_sel)\n",
    "    y_pred = np.argmax(y_prob, axis=1)\n",
    "\n",
    "print(classification_report(y_val, y_pred))\n"
   ]
  },
  {
   "cell_type": "markdown",
   "id": "61d34e36",
   "metadata": {},
   "source": [
    "# Evaluate"
   ]
  }
 ],
 "metadata": {
  "kernelspec": {
   "display_name": ".venv (3.13.2)",
   "language": "python",
   "name": "python3"
  },
  "language_info": {
   "name": "python",
   "version": "3.13.2"
  }
 },
 "nbformat": 4,
 "nbformat_minor": 5
}
